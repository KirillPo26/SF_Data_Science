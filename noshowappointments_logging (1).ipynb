{
  "cells": [
    {
      "cell_type": "markdown",
      "metadata": {
        "id": "aUAqi67vLzhL"
      },
      "source": [
        "# Импорт библиотек"
      ]
    },
    {
      "cell_type": "code",
      "execution_count": 2,
      "metadata": {
        "id": "lXinfUuSL6Og"
      },
      "outputs": [],
      "source": [
        "import pandas as pd \n",
        "\n",
        "import os\n",
        "import logging"
      ]
    },
    {
      "cell_type": "markdown",
      "metadata": {
        "id": "y3290WaEMCCM"
      },
      "source": [
        "# Загрузка данных"
      ]
    },
    {
      "cell_type": "code",
      "execution_count": 3,
      "metadata": {
        "id": "VbAf186tLgqb"
      },
      "outputs": [],
      "source": [
        "df = pd.read_csv('data/KaggleV2-May-2016.csv')"
      ]
    },
    {
      "cell_type": "markdown",
      "metadata": {
        "id": "hIlLTfPPz3VG"
      },
      "source": [
        "# Логирование информации о данных"
      ]
    },
    {
      "cell_type": "code",
      "execution_count": 4,
      "metadata": {
        "id": "heuTVTZ6vvHd"
      },
      "outputs": [],
      "source": [
        "# Функция для создания лог-файла и записи в него информации\n",
        "def get_logger(path, file):\n",
        "   \"\"\"[Создает лог-файл для логирования в него]\n",
        "   Аргументы:\n",
        "       path {string} -- путь к директории\n",
        "       file {string} -- имя файла\n",
        "  \n",
        "   Возвращает:\n",
        "       [obj] -- [логер]\n",
        "   \"\"\"\n",
        " \n",
        "   # проверяем, существует ли файл\n",
        "   log_file = os.path.join(path, file)\n",
        " \n",
        "   if not os.path.isfile(log_file):\n",
        "       open(log_file, \"w+\").close()\n",
        " \n",
        "   # поменяем формат логирования\n",
        "   file_logging_format = \"%(levelname)s: %(asctime)s: %(message)s\"\n",
        " \n",
        "   # конфигурируем лог-файл\n",
        "   logging.basicConfig(level=logging.INFO, \n",
        "   format = file_logging_format)\n",
        "   logger = logging.getLogger()\n",
        "  \n",
        "   # создадим хэнлдер для записи лога в файл\n",
        "   handler = logging.FileHandler(log_file)\n",
        " \n",
        "   # установим уровень логирования\n",
        "   handler.setLevel(logging.INFO)\n",
        "  \n",
        "   # создадим формат логирования, используя file_logging_format\n",
        "   formatter = logging.Formatter(file_logging_format)\n",
        "   handler.setFormatter(formatter)\n",
        " \n",
        "   # добавим хэндлер лог-файлу\n",
        "   logger.addHandler(handler)\n",
        " \n",
        "   return logger"
      ]
    },
    {
      "cell_type": "code",
      "execution_count": 5,
      "metadata": {
        "colab": {
          "base_uri": "https://localhost:8080/"
        },
        "id": "7YrkW6YnwGtS",
        "outputId": "ce745a05-cb06-45f6-c3cf-f628e317f94e"
      },
      "outputs": [
        {
          "name": "stderr",
          "output_type": "stream",
          "text": [
            "�������� ��� 䠩� logs 㦥 �������.\n"
          ]
        }
      ],
      "source": [
        "# создаем папку для логирования\n",
        "!mkdir logs"
      ]
    },
    {
      "cell_type": "code",
      "execution_count": 6,
      "metadata": {
        "id": "26Fl0Sjdv-C2"
      },
      "outputs": [],
      "source": [
        "# создаем лог-файл\n",
        "logger = get_logger(path=\"logs/\", file=\"data.logs\")"
      ]
    },
    {
      "cell_type": "code",
      "execution_count": 7,
      "metadata": {
        "colab": {
          "base_uri": "https://localhost:8080/"
        },
        "id": "eEsvaL4vv-mO",
        "outputId": "2801c710-7805-4a14-de7b-5908209aa6e3"
      },
      "outputs": [
        {
          "name": "stderr",
          "output_type": "stream",
          "text": [
            "INFO: 2022-11-27 13:23:58,378: Data\n"
          ]
        }
      ],
      "source": [
        "logger.info(\"Data\")"
      ]
    },
    {
      "cell_type": "code",
      "execution_count": 8,
      "metadata": {
        "colab": {
          "base_uri": "https://localhost:8080/"
        },
        "id": "HEOhNMk8wSXG",
        "outputId": "341ad825-2180-45f2-a7ee-aee6e7ddab6d"
      },
      "outputs": [
        {
          "name": "stderr",
          "output_type": "stream",
          "text": [
            "INFO: 2022-11-27 13:24:00,247: Data shape (110527, 14)\n"
          ]
        }
      ],
      "source": [
        "logger.info(\"Data shape {}\".format(df.shape))"
      ]
    },
    {
      "cell_type": "code",
      "execution_count": 10,
      "metadata": {
        "colab": {
          "base_uri": "https://localhost:8080/"
        },
        "id": "tODTr_-Lwa7j",
        "outputId": "eb845614-8d34-4001-8f4e-8e2d1f17bf32"
      },
      "outputs": [
        {
          "name": "stderr",
          "output_type": "stream",
          "text": [
            "INFO: 2022-11-27 13:24:03,400: Percentage of women: 0.653882342398853\n"
          ]
        }
      ],
      "source": [
        "logger.info(\"Percentage of women: {}\".format(df[df['No-show']=='Yes']['Gender'].value_counts(True)[0]))"
      ]
    },
    {
      "cell_type": "code",
      "execution_count": 11,
      "metadata": {
        "colab": {
          "base_uri": "https://localhost:8080/"
        },
        "id": "Yrs_ikOi7e92",
        "outputId": "e8500713-9cb9-4a3a-849c-ec02b132c5b2"
      },
      "outputs": [
        {
          "name": "stderr",
          "output_type": "stream",
          "text": [
            "INFO: 2022-11-27 13:24:05,205: Percentage of men: 0.346117657601147\n"
          ]
        }
      ],
      "source": [
        "logger.info(\"Percentage of men: {}\".format(df[df['No-show']=='Yes']['Gender'].value_counts(True)[1]))"
      ]
    },
    {
      "cell_type": "code",
      "execution_count": null,
      "metadata": {
        "id": "Yf_j1MN875RV"
      },
      "outputs": [],
      "source": []
    },
    {
      "cell_type": "code",
      "execution_count": 12,
      "metadata": {
        "colab": {
          "base_uri": "https://localhost:8080/"
        },
        "id": "kdcs0ys575c_",
        "outputId": "bd2da9f1-29c7-497a-be40-f3c76f7218ba"
      },
      "outputs": [
        {
          "name": "stderr",
          "output_type": "stream",
          "text": [
            "ERROR: 2022-11-27 13:24:07,510: Data shape is incorrect!\n"
          ]
        }
      ],
      "source": [
        "if df.shape != (110526,14):\n",
        "  logger.error('Data shape is incorrect!')"
      ]
    },
    {
      "cell_type": "code",
      "execution_count": 13,
      "metadata": {},
      "outputs": [
        {
          "name": "stderr",
          "output_type": "stream",
          "text": [
            "COMET WARNING: As you are running in a Jupyter environment, you will need to call `experiment.end()` when finished to ensure all metrics and code are logged before exiting.\n",
            "COMET INFO: Experiment is live on comet.com https://www.comet.com/kirillpo26/medical-appointment/cf24c1003b17487c942b3d2aba9ff71c\n",
            "\n"
          ]
        },
        {
          "name": "stderr",
          "output_type": "stream",
          "text": [
            "WARNING: 2022-11-27 15:13:16,848: Retrying (Retry(total=2, connect=None, read=None, redirect=None, status=None)) after connection broken by 'ReadTimeoutError(\"HTTPSConnectionPool(host='www.comet.com', port=443): Read timed out. (read timeout=10)\")': /clientlib/status-report/update\n",
            "WARNING: 2022-11-27 15:13:31,467: Retrying (Retry(total=1, connect=None, read=None, redirect=None, status=None)) after connection broken by 'ReadTimeoutError(\"HTTPSConnectionPool(host='www.comet.com', port=443): Read timed out. (read timeout=10)\")': /clientlib/status-report/update\n",
            "WARNING: 2022-11-27 15:14:18,483: Retrying (Retry(total=2, connect=None, read=None, redirect=None, status=None)) after connection broken by 'ReadTimeoutError(\"HTTPSConnectionPool(host='www.comet.com', port=443): Read timed out. (read timeout=10)\")': /clientlib/status-report/update\n",
            "WARNING: 2022-11-27 15:14:47,537: Retrying (Retry(total=1, connect=None, read=None, redirect=None, status=None)) after connection broken by 'ReadTimeoutError(\"HTTPSConnectionPool(host='www.comet.com', port=443): Read timed out. (read timeout=10)\")': /clientlib/status-report/update\n",
            "WARNING: 2022-11-27 15:16:32,150: Retrying (Retry(total=2, connect=None, read=None, redirect=None, status=None)) after connection broken by 'ReadTimeoutError(\"HTTPSConnectionPool(host='www.comet.com', port=443): Read timed out. (read timeout=10)\")': /clientlib/status-report/update\n",
            "WARNING: 2022-11-27 16:21:06,951: Retrying (Retry(total=2, connect=None, read=None, redirect=None, status=None)) after connection broken by 'ReadTimeoutError(\"HTTPSConnectionPool(host='www.comet.com', port=443): Read timed out. (read timeout=10)\")': /clientlib/status-report/update\n",
            "WARNING: 2022-11-27 16:21:21,522: Retrying (Retry(total=1, connect=None, read=None, redirect=None, status=None)) after connection broken by 'ReadTimeoutError(\"HTTPSConnectionPool(host='www.comet.com', port=443): Read timed out. (read timeout=10)\")': /clientlib/status-report/update\n",
            "WARNING: 2022-11-27 16:38:10,422: Retrying (Retry(total=2, connect=None, read=None, redirect=None, status=None)) after connection broken by 'ReadTimeoutError(\"HTTPSConnectionPool(host='www.comet.com', port=443): Read timed out. (read timeout=10)\")': /clientlib/status-report/update\n",
            "WARNING: 2022-11-27 16:38:24,962: Retrying (Retry(total=1, connect=None, read=None, redirect=None, status=None)) after connection broken by 'ReadTimeoutError(\"HTTPSConnectionPool(host='www.comet.com', port=443): Read timed out. (read timeout=10)\")': /clientlib/status-report/update\n",
            "WARNING: 2022-11-27 16:38:43,454: Retrying (Retry(total=0, connect=None, read=None, redirect=None, status=None)) after connection broken by 'ReadTimeoutError(\"HTTPSConnectionPool(host='www.comet.com', port=443): Read timed out. (read timeout=10)\")': /clientlib/status-report/update\n"
          ]
        }
      ],
      "source": [
        "# import comet_ml at the top of your file\n",
        "from comet_ml import Experiment\n",
        "\n",
        "# Create an experiment with your api key\n",
        "experiment = Experiment(\n",
        "    api_key=\"G0VXLDT2I1LYyj5RH80zZodgR\",\n",
        "    project_name=\"medical-appointment\",\n",
        "    workspace=\"kirillpo26\",\n",
        ")"
      ]
    }
  ],
  "metadata": {
    "colab": {
      "collapsed_sections": [],
      "name": "noshowappointments_logging.ipynb",
      "provenance": []
    },
    "kernelspec": {
      "display_name": "Python 3.10.4 64-bit",
      "language": "python",
      "name": "python3"
    },
    "language_info": {
      "codemirror_mode": {
        "name": "ipython",
        "version": 3
      },
      "file_extension": ".py",
      "mimetype": "text/x-python",
      "name": "python",
      "nbconvert_exporter": "python",
      "pygments_lexer": "ipython3",
      "version": "3.10.4"
    },
    "nteract": {
      "version": "0.28.0"
    },
    "vscode": {
      "interpreter": {
        "hash": "772f91e123ac5eb79a70ba836138819c43ea258e560131b876883b421d305472"
      }
    }
  },
  "nbformat": 4,
  "nbformat_minor": 0
}
